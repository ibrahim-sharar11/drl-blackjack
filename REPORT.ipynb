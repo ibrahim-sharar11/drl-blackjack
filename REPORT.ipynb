{
  "cells": [
    {
      "cell_type": "markdown",
      "metadata": {},
      "source": [
        "# DRL for Automated Testing — Report\n",
        "\n",
        "This is a convenience copy of `notebooks/report.ipynb`. For the canonical single-document report with embedded plots and previews, open `AMAZING_REPORT.html`.\n",
        "\n",
        "Artifacts: see `runs/` for models, CSVs, aggregates, and eval frames/GIFs." ]
    }
  ],
  "metadata": {
    "kernelspec": {"display_name": "Python 3", "language": "python", "name": "python3"},
    "language_info": {"name": "python", "version": "3"}
  },
  "nbformat": 4,
  "nbformat_minor": 5
}

