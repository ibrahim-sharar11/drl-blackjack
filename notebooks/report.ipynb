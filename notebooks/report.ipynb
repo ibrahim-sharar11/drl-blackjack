{
  "cells": [
    {
      "cell_type": "markdown",
      "metadata": {},
      "source": [
        "# DRL for Automated Testing — Report\n",
        "\n",
        "This notebook is a lightweight entry point for the assignment report. For a polished, consolidated view with plots and previews, open `AMAZING_REPORT.html` in the repo root.\n",
        "\n",
        "You can also inspect run artifacts under `runs/` and use `notebooks/plots.py` to generate additional plots." ]
    }
  ],
  "metadata": {
    "kernelspec": {"display_name": "Python 3", "language": "python", "name": "python3"},
    "language_info": {"name": "python", "version": "3"}
  },
  "nbformat": 4,
  "nbformat_minor": 5
}

